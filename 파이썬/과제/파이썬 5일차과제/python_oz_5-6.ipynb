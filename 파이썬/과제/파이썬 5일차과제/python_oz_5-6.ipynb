{
 "cells": [
  {
   "cell_type": "markdown",
   "metadata": {
    "id": "WXEwMsfUct7U"
   },
   "source": [
    "컴퓨터 기초 지식을 의미하는 CS(Computer science)는<br>\n",
    "코딩 테스트와 함께 기술 면접에서 지원자에게 필수적으로 요구합니다.<br>\n",
    "\n",
    "수업 내용 중 기술 면접에 자주 나오는 질문 3가지와 기본적으로 알아야 할 내용 과제로 선정했습니다.<br>\n",
    "\n",
    "관련 내용에 대해서는 구글링 또는 관련 서적을 통해 상세히 공부하시고<br>\n",
    "답변은 최대한 핵심만 담아 간결하게 작성해주세요<br>\n",
    "\n",
    "기술 블로그를 운영 중이신 경우<br>\n",
    "답변 내용을 기술 블로그에 작성하신 후 링크를 답변에 남겨주셔도 됩니다.<br>"
   ]
  },
  {
   "cell_type": "markdown",
   "metadata": {
    "id": "qoyC9wF-3hvs"
   },
   "source": [
    "-----"
   ]
  },
  {
   "cell_type": "markdown",
   "metadata": {
    "id": "rAD_O3Gmc_43"
   },
   "source": [
    "[문제1]\n",
    "\n",
    "객체지향에 대해서 설명해주세요"
   ]
  },
  {
   "cell_type": "markdown",
   "metadata": {},
   "source": [
    "객체, 클래스 기반 현실 세계 모델링.\n",
    "캡슐화로 데이터 보호 및 은닉.\n",
    "상속으로 코드 재사용 및 확장.\n",
    "다형성으로 유연하고 다양한 구현.\n",
    "유지보수 용이, 가독성 및 확장성 향상.\n"
   ]
  },
  {
   "cell_type": "markdown",
   "metadata": {},
   "source": [
    "---"
   ]
  },
  {
   "cell_type": "markdown",
   "metadata": {
    "id": "3uK_auXYdgk2"
   },
   "source": [
    "[문제2]\n",
    "\n",
    "init 메소드에 대해 설명해주세요"
   ]
  },
  {
   "cell_type": "code",
   "execution_count": null,
   "metadata": {
    "id": "9kvBxa6PdhgA"
   },
   "outputs": [],
   "source": [
    "메소드는 파이썬의 객체 지향 프로그래밍에서 특별한 메소드로 클래스의 인스턴스가 생성될 때 자동으로 호출되는 메소드입니다"
   ]
  },
  {
   "cell_type": "markdown",
   "metadata": {},
   "source": [
    "[문제3]\n",
    "\n",
    "클래스 상속에 대해 설명해주세요"
   ]
  },
  {
   "cell_type": "markdown",
   "metadata": {},
   "source": [
    "클래스 상속은 객체 지향 프로그래밍의 중요한 개념 중 하나로, 하나의 클래스가 다른 클래스의 속성과 메서드를 물려받는 것을 의미합니다. 이를 통해 코드의 재사용성을 높이고, 중복을 최소화할 수 있습니다.\n",
    "\n",
    "상속받는 클래스를 '자식 클래스' 또는 '서브 클래스', 상속하는 클래스를 '부모 클래스' 또는 '슈퍼 클래스'라고 부릅니다. 자식 클래스는 부모 클래스의 모든 속성과 메서드를 물려받으며, 필요에 따라 새로운 속성과 메서드를 추가하거나, 부모 클래스의 메서드를 재정의(오버라이딩)할 수 있습니다.\n"
   ]
  },
  {
   "cell_type": "markdown",
   "metadata": {},
   "source": [
    "<aside>\n",
    "클래스 상속은 객체 지향 프로그래밍의 중요한 개념 중 하나로, 하나의 클래스가 다른 클래스의 속성과 메서드를 물려받는 것을 의미합니다. 이를 통해 코드의 재사용성을 높이고, 중복을 최소화할 수 있습니다.\n",
    "\n",
    "**상속받는 클래스를 '자식 클래스' 또는 '서브 클래스', 상속하는 클래스를 '부모 클래스' 또는 '슈퍼 클래스'라고 부릅니다. 자식 클래스는 부모 클래스의 모든 속성과 메서드를 물려받으며, 필요에 따라 새로운 속성과 메서드를 추가하거나, 부모 클래스의 메서드를 재정의(오버라이딩)할 수 있습니다.**\n",
    "\n",
    "</aside>"
   ]
  },
  {
   "cell_type": "markdown",
   "metadata": {},
   "source": [
    "[문제4]\n",
    "\n",
    "클래스 다중 상속과 관련된 MRO에 대해 설명해주세요"
   ]
  },
  {
   "cell_type": "markdown",
   "metadata": {},
   "source": [
    "다중 상속이란 하나의 클래스가 둘 이상의 부모 클래스로부터 상속을 받는 것을 의미합니다. 파이썬은 다중 상속을 지원하며, 이로 인해 특정 클래스가 상속받는 메서드가 동일한 이름을 가질 경우, 어떤 부모 클래스의 메서드를 우선적으로 사용할지 결정해야 하는 상황이 발생할 수 있습니다. 이를 해결하기 위한 규칙이 바로 MRO(Method Resolution Order)입니다."
   ]
  },
  {
   "cell_type": "markdown",
   "metadata": {},
   "source": [
    "MRO는 메서드를 탐색하는 순서를 정의합니다. 파이썬에서는 C3 선형화라는 알고리즘을 사용하여 MRO를 결정합니다. 이 알고리즘은 복잡한 다중 상속 관계에서도 일관된 MRO를 보장합니다."
   ]
  },
  {
   "cell_type": "markdown",
   "metadata": {},
   "source": [
    "[문제5]\n",
    "\n",
    "Self는 어떤 키워드 인가요?"
   ]
  },
  {
   "cell_type": "markdown",
   "metadata": {},
   "source": [
    "self는 파이썬에서 클래스의 인스턴스 메서드에서 현재의 인스턴스를 참조하는데 사용되는 키워드입니다. 이는 메서드가 호출되는 객체 자신을 가리킵니다. 파이썬에서는 이를 명시적으로 첫 번째 매개변수로 표기합니다.\n",
    "self는 실제로 파이썬의 예약어가 아니며, 다른 이름으로도 사용할 수 있지만 국룰적으로 self를 사용합니다. 이는 파이썬 커뮤니티의 관례이며, 이를 따르는 것이 코드의 가독성을 높일 수 있습니다."
   ]
  },
  {
   "cell_type": "markdown",
   "metadata": {},
   "source": [
    "[문제6]\n",
    "\n",
    "ZeroDivisionError,  IndexError 외에 3가지 이상의 파이썬 에러에 대해 설명해주세요"
   ]
  },
  {
   "cell_type": "markdown",
   "metadata": {},
   "source": [
    "1. **TypeError: 잘못된 타입의 연산이나 함수 호출이 일어났을 때 발생합니다. 예를 들어 숫자와 문자열을 더하려고 시도하면 `TypeError`가 발생합니다.**\n",
    "2. **NameError: 지역 또는 전역 이름을 찾을 수 없을 때 발생합니다. 즉, 선언되지 않은 변수를 참조하려고 할 때 이 에러가 발생합니다.**\n",
    "3. **FileNotFoundError: 존재하지 않는 파일을 열려고 시도하면 발생하는 에러입니다. 이 에러는 파일 경로가 잘못되었거나, 파일이 아예 존재하지 않을 때 발생합니다.**"
   ]
  }
 ],
 "metadata": {
  "colab": {
   "authorship_tag": "ABX9TyP7YKA5FdtGggYfD74V7SMJ",
   "provenance": []
  },
  "kernelspec": {
   "display_name": "Python 3",
   "name": "python3"
  },
  "language_info": {
   "name": "python"
  }
 },
 "nbformat": 4,
 "nbformat_minor": 0
}
