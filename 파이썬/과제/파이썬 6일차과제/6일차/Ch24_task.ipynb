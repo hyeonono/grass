{
 "cells": [
  {
   "cell_type": "markdown",
   "metadata": {},
   "source": [
    "사용자의 이름, 나이, 성별을 출력하는 함수 print_info를 작성하세요. 이 때, 모든 매개변수는 키워드 매개변수로만 받도록 하세요."
   ]
  },
  {
   "cell_type": "code",
   "execution_count": 11,
   "metadata": {},
   "outputs": [
    {
     "name": "stdout",
     "output_type": "stream",
     "text": [
      "{'이름': '홍길동', '나이': '20', '성별': '남자'}\n"
     ]
    }
   ],
   "source": [
    "def print_info(**kwarg):\n",
    "    for key, value in kwargs.items():\n",
    "        print(f\"{key},{value}\")\n",
    "\n",
    "user_input =input(f\"사용자의 이름,나이,성별을 입력해주세요\").split(\",\")\n",
    "keys = [\"이름\", \"나이\", \"성별\"]\n",
    "user_data = dict(zip(keys, user_input))\n",
    "print(user_data)\n"
   ]
  }
 ],
 "metadata": {
  "kernelspec": {
   "display_name": "Python 3",
   "language": "python",
   "name": "python3"
  },
  "language_info": {
   "codemirror_mode": {
    "name": "ipython",
    "version": 3
   },
   "file_extension": ".py",
   "mimetype": "text/x-python",
   "name": "python",
   "nbconvert_exporter": "python",
   "pygments_lexer": "ipython3",
   "version": "3.12.6"
  }
 },
 "nbformat": 4,
 "nbformat_minor": 2
}
