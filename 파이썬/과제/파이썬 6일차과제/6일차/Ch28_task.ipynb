{
 "cells": [
  {
   "cell_type": "markdown",
   "metadata": {},
   "source": [
    "사용자로부터 3개의 숫자를 입력받아, 이를 튜플로 만든 후 최소값과 최대값을 출력하는 함수 min_max를 작성하세요."
   ]
  },
  {
   "cell_type": "code",
   "execution_count": null,
   "metadata": {
    "vscode": {
     "languageId": "plaintext"
    }
   },
   "outputs": [],
   "source": [
    "def min_max(tuple_num):\n",
    "    print(min(tuple_num))\n",
    "    print(max(tuple_num))\n",
    "\n",
    "tuple_num=tuple(input('3개의 숫자 입력(,)').split(','))\n",
    "min_max(tuple_num)"
   ]
  }
 ],
 "metadata": {
  "language_info": {
   "name": "python"
  }
 },
 "nbformat": 4,
 "nbformat_minor": 2
}
