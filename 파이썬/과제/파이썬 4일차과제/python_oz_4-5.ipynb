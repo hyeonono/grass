{
 "cells": [
  {
   "cell_type": "markdown",
   "metadata": {
    "id": "WXEwMsfUct7U"
   },
   "source": [
    "컴퓨터 기초 지식을 의미하는 CS(Computer science)는<br>\n",
    "코딩 테스트와 함께 기술 면접에서 지원자에게 필수적으로 요구합니다.<br>\n",
    "\n",
    "수업 내용 중 기술 면접에 자주 나오는 질문 3가지와 기본적으로 알아야 할 내용 과제로 선정했습니다.<br>\n",
    "\n",
    "관련 내용에 대해서는 구글링 또는 관련 서적을 통해 상세히 공부하시고<br>\n",
    "답변은 최대한 핵심만 담아 간결하게 작성해주세요<br>\n",
    "\n",
    "기술 블로그를 운영 중이신 경우<br>\n",
    "답변 내용을 기술 블로그에 작성하신 후 링크를 답변에 남겨주셔도 됩니다.<br>"
   ]
  },
  {
   "cell_type": "markdown",
   "metadata": {
    "id": "qoyC9wF-3hvs"
   },
   "source": [
    "-----"
   ]
  },
  {
   "cell_type": "markdown",
   "metadata": {
    "id": "rAD_O3Gmc_43"
   },
   "source": [
    "[문제1]\n",
    "\n",
    "파이썬 2.7 버전과 파이썬 3에서 range 차이를 설명해주세요"
   ]
  },
  {
   "cell_type": "markdown",
   "metadata": {},
   "source": "파이썬 2.7에서 range 함수는 지정된 범위의 숫자 목록을 메모리에 생성합니다. 이는 큰 범위의 숫자를 생성할 때 메모리 문제를 일으킬 수 있습니다.  반면에 파이썬 3에서 range 함수는 \"range\" 객체를 반환합니다. 이 객체는 숫자를 필요에 따라 동적으로 생성하므로 메모리를 효율적으로 사용합니다. 즉, 파이썬 3의 range 함수는 숫자를 미리 생성하지 않고, 숫자가 필요할 때마다 생성하여 반환합니다"
  },
  {
   "cell_type": "markdown",
   "metadata": {},
   "source": [
    "---"
   ]
  },
  {
   "cell_type": "markdown",
   "metadata": {
    "id": "3uK_auXYdgk2"
   },
   "source": [
    "[문제2]\n",
    "\n",
    "Python의 얕은 복사와 깊은 복사에 대해서 설명하세요"
   ]
  },
  {
   "cell_type": "code",
   "execution_count": null,
   "metadata": {
    "id": "9kvBxa6PdhgA"
   },
   "outputs": [],
   "source": [
    "얕은 복사는 원본 객체의 '참조'를 복사하는 것을 말합니다, copy() 함수나 리스트의 [:] 연산을 통해 얕은 복사를 수행할 수 있습니다.\n",
    "깊은 복사는 원본 객체의 '값'을 복사하는 것을 말합니다 서로 다른 메모리 주소를 가져서 원본 객체에는 영향을 미치지 않습니다 copy 모듈의 deepcopy() 함수를 통해 깊은 복사를 수행할 수 있습니다."
   ]
  }
 ],
 "metadata": {
  "colab": {
   "authorship_tag": "ABX9TyP7YKA5FdtGggYfD74V7SMJ",
   "provenance": []
  },
  "kernelspec": {
   "display_name": "Python 3",
   "name": "python3"
  },
  "language_info": {
   "name": "python"
  }
 },
 "nbformat": 4,
 "nbformat_minor": 0
}
