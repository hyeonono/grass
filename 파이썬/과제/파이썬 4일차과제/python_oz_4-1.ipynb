{
 "cells": [
  {
   "cell_type": "markdown",
   "metadata": {
    "id": "WXEwMsfUct7U"
   },
   "source": [
    "컴퓨터 기초 지식을 의미하는 CS(Computer science)는<br>\n",
    "코딩 테스트와 함께 기술 면접에서 지원자에게 필수적으로 요구합니다.<br>\n",
    "\n",
    "수업 내용 중 기술 면접에 자주 나오는 질문 3가지와 기본적으로 알아야 할 내용 과제로 선정했습니다.<br>\n",
    "\n",
    "관련 내용에 대해서는 구글링 또는 관련 서적을 통해 상세히 공부하시고<br>\n",
    "답변은 최대한 핵심만 담아 간결하게 작성해주세요<br>\n",
    "\n",
    "기술 블로그를 운영 중이신 경우<br>\n",
    "답변 내용을 기술 블로그에 작성하신 후 링크를 답변에 남겨주셔도 됩니다.<br>"
   ]
  },
  {
   "cell_type": "markdown",
   "metadata": {
    "id": "qoyC9wF-3hvs"
   },
   "source": [
    "-----"
   ]
  },
  {
   "cell_type": "markdown",
   "metadata": {
    "id": "rAD_O3Gmc_43"
   },
   "source": [
    "[문제1]\n",
    "\n",
    "list와 tuple의 주된 차이점은 무엇인가요?"
   ]
  },
  {
   "metadata": {},
   "cell_type": "code",
   "outputs": [],
   "execution_count": null,
   "source": "list는 가변적이어서 생성 후 요소 변경, 추가, 삭제가 가능하며 []로 정의됩니다. 반면, tuple은 불변적이어서 생성 후 요소 변경이 불가능하고 ()로 정의되며, 고정된 데이터 표현에 유용합니다."
  },
  {
   "cell_type": "markdown",
   "metadata": {},
   "source": [
    "---"
   ]
  },
  {
   "cell_type": "markdown",
   "metadata": {
    "id": "3uK_auXYdgk2"
   },
   "source": [
    "[문제2]\n",
    "\n",
    "Python의 set에 대해 설명해주세요"
   ]
  },
  {
   "cell_type": "markdown",
   "metadata": {},
   "source": "set은 순서가 없고 중복된 요소를 허용하지 않는 컬렉션 자료형으로, 수학의 집합과 유사한 연산(합집합, 교집합, 차집합 등)을 효율적으로 수행할 수 있습니다. 중괄호 {}를 사용하여 정의하거나 set() 함수를 통해 생성할 수 있습니다."
  },
  {
   "cell_type": "markdown",
   "metadata": {},
   "source": [
    "---"
   ]
  },
  {
   "cell_type": "markdown",
   "metadata": {},
   "source": [
    "[문제3]\n",
    "\n",
    "Python의 list는 연결리스트(linked list)인가요?"
   ]
  },
  {
   "cell_type": "markdown",
   "metadata": {},
   "source": "아닙니다. Python의 list는 동적 배열(dynamic array)로 구현되어 있습니다."
  },
  {
   "cell_type": "markdown",
   "metadata": {},
   "source": [
    "---"
   ]
  },
  {
   "cell_type": "markdown",
   "metadata": {},
   "source": [
    "\n",
    "[문제4]\n",
    "\n",
    "딕셔너리 자료형에 대해 설명해주세요."
   ]
  },
  {
   "cell_type": "markdown",
   "metadata": {},
   "source": "파이썬의 딕셔너리(dictionary)는 키(key)와 값(value)의 쌍으로 이루어진 자료 구조로, 키를 통해 값을 효율적으로 조회할 수 있습니다. 각 키는 고유해야 하며, 값은 어떤 파이썬 객체든 될 수 있습니다. 중괄호 {}를 사용하여 정의합니다"
  },
  {
   "cell_type": "markdown",
   "metadata": {},
   "source": [
    "---"
   ]
  }
 ],
 "metadata": {
  "colab": {
   "authorship_tag": "ABX9TyP7YKA5FdtGggYfD74V7SMJ",
   "provenance": []
  },
  "kernelspec": {
   "display_name": "Python 3",
   "name": "python3"
  },
  "language_info": {
   "name": "python"
  }
 },
 "nbformat": 4,
 "nbformat_minor": 0
}
