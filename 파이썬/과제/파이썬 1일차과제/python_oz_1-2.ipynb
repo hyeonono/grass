{
 "cells": [
  {
   "cell_type": "markdown",
   "metadata": {},
   "source": [
    "<span style=\"font-size:100%\">\n",
    "\n",
    "수업은 모두 열심히 들으셨나요?\n",
    "\n",
    "간혹 강의에서 언급되지 않은 내용이 문제로 나올 수 있습니다.<br>\n",
    "그럴땐 강의 내용 외 문제는 구글링을 통해 해결해주세요<br></span>\n",
    "<span style=\"font-size:80%\">\n",
    "(구글링 또한 개발자가 갖쳐야할 역량 중에 하나랍니다 😊)\n",
    "</span>\n",
    "\n",
    "---"
   ]
  },
  {
   "cell_type": "markdown",
   "metadata": {},
   "source": [
    "<span style=\"font-size:80%\">[문제1]<br><br></span>\n",
    "```인터프리트 방식에 대해 설명하고 2개 이상의 장점을 설명해주세요```"
   ]
  },
  {
   "cell_type": "markdown",
   "metadata": {},
   "source": [
    "<span style=\"color:red\">답변</span>"
   ]
  },
  {
   "cell_type": "markdown",
   "metadata": {},
   "source": [
    "프로그래밍 언어로 작성된 소스 코드를 한 줄씩 읽어서 즉시 실행하는 프로그램 또는 방식을 말합니다.\n",
    "인터프리터는 코드를 한 줄씩 읽고 바로 실행하기 때문에, 운영체제나 하드웨어에 종속되지 않아요. 인터프리터만 있다면 어떤 환경에서도 동일한 코드를 실행할 수 있습니다\n",
    "컴파일 과정이 없기 때문에 코드를 작성하고 바로 결과를 확인할 수 있어서 개발 및 테스트 시간을 단축할 수 있습니다."
   ]
  },
  {
   "cell_type": "markdown",
   "metadata": {},
   "source": [
    "---"
   ]
  },
  {
   "cell_type": "markdown",
   "metadata": {},
   "source": [
    "<span style=\"font-size:80%\">[문제2]<br><br></span>\n",
    "```동적 타입 방식의 장점과 단점을 간략히 설명해주세요```"
   ]
  },
  {
   "cell_type": "markdown",
   "metadata": {},
   "source": [
    "<span style=\"color:red\">답변</span>"
   ]
  },
  {
   "cell_type": "markdown",
   "metadata": {},
   "source": [
    " 동적 타입 방식은 개발의 편의성과 코드의 간결성을 제공하지만, 타입 안정성 측면에서는 정적 타입 방식에 비해 취약점을 가질 수 있습니다"
   ]
  },
  {
   "cell_type": "markdown",
   "metadata": {},
   "source": [
    "---"
   ]
  },
  {
   "cell_type": "markdown",
   "metadata": {},
   "source": [
    "<span style=\"font-size:80%\">[문제3]<br><br></span>\n",
    "```Python으로 정적타입 방식의 코드를 작성할 수 있는 방법을 구글링을 통해 검색 후 설명해주세요```"
   ]
  },
  {
   "cell_type": "markdown",
   "metadata": {},
   "source": [
    "<span style=\"color:red\">답변</span>"
   ]
  },
  {
   "cell_type": "markdown",
   "metadata": {},
   "source": [
    "파이썬은 원래 동적 타입 언어이지만, 타입 힌트라는 기능을 사용하여 변수, 함수의 매개변수 및 반환 값에 예상되는 자료형을 명시할 수 있습니다. 이는 실제 프로그램 실행에는 영향을 주지 않지만, MyPy와 같은 별도의 정적 타입 검사 도구를 사용하여 코드의 타입 오류를 사전에 발견하고 방지할 수 있도록 도와줍니다."
   ]
  },
  {
   "cell_type": "markdown",
   "metadata": {},
   "source": [
    "---"
   ]
  },
  {
   "cell_type": "markdown",
   "metadata": {},
   "source": [
    "<span style=\"font-size:80%\">[문제4]<br><br></span>\n",
    "```프로세스와 스레드의 차이점을 설명해주세요```"
   ]
  },
  {
   "cell_type": "markdown",
   "metadata": {},
   "source": [
    "<span style=\"color:red\">답변</span>"
   ]
  },
  {
   "cell_type": "markdown",
   "metadata": {},
   "source": [
    "프로세스는 독립적인 메모리 공간을 가진 실행 단위로, 안정성은 높지만 생성/종료 비용이 크고 프로세스 간 통신이 복잡합니다. 스레드는 프로세스 내의 실행 흐름으로, 메모리를 공유하여 통신이 효율적이고 생성/종료 비용이 적지만 동시성 문제 발생 가능성이 있습니다. 프로세스는 마치 독립된 건물, 스레드는 건물 안의 직원과 같습니다. 안정성이 중요하거나 독립적인 작업에 유리하며, 성능 향상을 위해 하나의 작업 내 병렬 처리가 필요할 땐 스레드가 효과적입니다."
   ]
  },
  {
   "cell_type": "markdown",
   "metadata": {},
   "source": [
    "---"
   ]
  },
  {
   "cell_type": "markdown",
   "metadata": {},
   "source": [
    "<span style=\"font-size:80%\">[문제5]<br><br></span>\n",
    "```Python 2버전대와 3버전대의 차이를 성명해주세요```"
   ]
  },
  {
   "cell_type": "markdown",
   "metadata": {},
   "source": [
    "<span style=\"color:red\">답변</span>"
   ]
  },
  {
   "cell_type": "markdown",
   "metadata": {},
   "source": [
    "파이썬 2와 3은 주요 문법 및 기능에서 큰 차이를 보입니다. 가장 눈에 띄는 변화는 **print 구문이 함수 형태(print())**로 바뀐 것입니다. 또한, 정수 나눗셈(/)의 결과가 항상 float으로 바뀌어 // 연산자로 정수 나눗셈을 명시해야 합니다. 유니코드 문자열 처리가 기본이 되어 2버전의 문자열 관련 문제들이 해결되었으며, 문법이 더 간결하고 현대적으로 개선되었습니다. 예외 처리 문법(except Exception as e:)과 range() 함수의 동작 방식도 달라졌습니다. 마지막으로, 3버전은 하위 호환성을 제공하지 않아 2버전 코드를 그대로 실행할 수 없는 경우가 많습니다."
   ]
  },
  {
   "cell_type": "markdown",
   "metadata": {},
   "source": [
    "---"
   ]
  },
  {
   "cell_type": "markdown",
   "metadata": {},
   "source": [
    "<span style=\"font-size:80%\">[문제6]<br><br></span>\n",
    "```Python에서 메모리 관리는 어떻게 이루어지는지 설명해주세요```"
   ]
  },
  {
   "cell_type": "markdown",
   "metadata": {},
   "source": [
    "<span style=\"color:red\">답변</span>"
   ]
  },
  {
   "cell_type": "markdown",
   "metadata": {},
   "source": [
    "파이썬의 메모리 관리는 주로 자동 참조 카운팅을 통해 즉시 불필요한 객체를 정리하고, 가비지 컬렉터가 순환 참조와 같이 참조 카운팅으로 처리할 수 없는 메모리 누수 문제를 해결하는 방식으로 이루어집니다. 이러한 자동 메모리 관리 덕분에 개발자는 메모리 할당 및 해제에 직접 신경 쓰지 않고 프로그램 로직에 집중할 수 있습니다."
   ]
  }
 ],
 "metadata": {
  "language_info": {
   "name": "python"
  }
 },
 "nbformat": 4,
 "nbformat_minor": 2
}
