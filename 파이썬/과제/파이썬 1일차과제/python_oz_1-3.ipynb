{
 "cells": [
  {
   "cell_type": "markdown",
   "metadata": {},
   "source": [
    "<span style=\"font-size:100%\">\n",
    "\n",
    "수업은 모두 열심히 들으셨나요?\n",
    "\n",
    "간혹 강의에서 언급되지 않은 내용이 문제로 나올 수 있습니다.<br>\n",
    "그럴땐 강의 내용 외 문제는 구글링을 통해 해결해주세요<br></span>\n",
    "<span style=\"font-size:80%\">\n",
    "(구글링 또한 개발자가 갖쳐야할 역량 중에 하나랍니다 😊)\n",
    "</span>\n",
    "\n",
    "---"
   ]
  },
  {
   "cell_type": "markdown",
   "metadata": {},
   "source": [
    "<span style=\"font-size:80%\">[문제1]<br><br></span>\n",
    "```주로 작성 중인 코드의 끝을 알리는 기호로 사용되며 파이썬에서 한 줄에 작성된 서로 다른 코드를 구분 지을 때 사용할 수 있는 기호를 골라주세요```\n",
    "\n",
    "1. ' , ' (쉼표)\n",
    "2. ' + ' (더하기 기호)\n",
    "3. ' ; ' (세미콜론)\n",
    "4. ' / ' (슬래시)"
   ]
  },
  {
   "cell_type": "markdown",
   "metadata": {},
   "source": [
    "<span style=\"color:red\">답변</span> :"
   ]
  },
  {
   "cell_type": "markdown",
   "metadata": {},
   "source": [
    "; 세미콜론"
   ]
  },
  {
   "cell_type": "markdown",
   "metadata": {},
   "source": [
    "----"
   ]
  },
  {
   "cell_type": "markdown",
   "metadata": {},
   "source": [
    "<span style=\"font-size:80%\">[문제2]<br><br></span>\n",
    "```Python의 PEP 8은 무엇인지 설명하고 PEP 8의 핵심적인 규칙을 1개 이상을 설명해주세요```"
   ]
  },
  {
   "cell_type": "markdown",
   "metadata": {},
   "source": [
    "<span style=\"color:red\">답변</span>"
   ]
  },
  {
   "cell_type": "markdown",
   "metadata": {},
   "source": [
    "PEP 8은 Python Enhancement Proposal 8의 약자로, 파이썬 코드의 스타일 가이드라인입니다. Guido van Rossum을 비롯한 파이썬 커뮤니티에서 제안하고 유지 관리하며, 파이썬 코드를 일관성 있고 읽기 쉽게 작성하기 위한 규칙과 권장 사항을 담고 있습니다\n",
    "PEP 8은 파이썬 코드 스타일 가이드라인으로, 코드의 가독성과 일관성을 높이는 데 목적을 둡니다. 수많은 규칙 중에서도 가장 핵심적인 것 중 하나는 일관성입니다"
   ]
  },
  {
   "cell_type": "markdown",
   "metadata": {},
   "source": [
    "----"
   ]
  },
  {
   "cell_type": "markdown",
   "metadata": {},
   "source": [
    "<span style=\"font-size:80%\">[문제3]<br><br></span>\n",
    "```Python에서 \"#\"이 의마하는 것은 무엇인지 설명해주세요```"
   ]
  },
  {
   "cell_type": "markdown",
   "metadata": {},
   "source": [
    "<span style=\"color:red\">답변</span>"
   ]
  },
  {
   "cell_type": "markdown",
   "metadata": {},
   "source": [
    "주석을 의미합니다. 커맨드 실행에 영향을 받지않으며 초록색글씨로 뜹니다 주로 개발자들의 보조설명으로 씁니다"
   ]
  },
  {
   "cell_type": "markdown",
   "metadata": {},
   "source": [
    "----"
   ]
  },
  {
   "cell_type": "markdown",
   "metadata": {},
   "source": [
    "<span style=\"font-size:80%\">[문제4]<br><br></span>\n",
    "```Python의 들여쓰기 장점과 기능에 대해 설명해주세요```"
   ]
  },
  {
   "cell_type": "markdown",
   "metadata": {},
   "source": [
    "<span style=\"color:red\">답변</span>"
   ]
  },
  {
   "cell_type": "markdown",
   "metadata": {},
   "source": [
    "파이썬 들여쓰기는 코드 블록을 정의하는 핵심 문법으로, 콜론 뒤의 코드는 같은 깊이로 들여쓰여 하나의 논리적 단위를 형성합니다. 이는 코드를 명확하게 구조화하여 가독성을 크게 향상시키고, 시각적으로 코드의 흐름을 파악하기 용이하게 만듭니다. 또한, 들여쓰기는 파이썬 인터프리터가 코드 구조를 해석하는 기준이 되므로, 개발자는 자연스럽게 일관된 코드 스타일을 유지하게 됩니다. 이는 협업 환경에서 코드 이해도를 높이고 오류 발생 가능성을 줄여줍니다. 명확한 구조는 논리적 오류 발견 및 디버깅을 용이하게 하며, 파이썬 학습 곡선을 낮추는 데에도 기여합니다. 핵심적으로, 파이썬의 들여쓰기는 코드의 의미를 담는 필수적인 요소입니다."
   ]
  },
  {
   "cell_type": "markdown",
   "metadata": {},
   "source": [
    "----"
   ]
  },
  {
   "cell_type": "markdown",
   "metadata": {},
   "source": [
    "<span style=\"font-size:80%\">[문제5]<br><br></span>\n",
    "```print( )문의 기능 및 특징에 대해 설명해주세요```"
   ]
  },
  {
   "cell_type": "markdown",
   "metadata": {},
   "source": [
    "<span style=\"color:red\">답변</span>"
   ]
  },
  {
   "cell_type": "code",
   "execution_count": null,
   "metadata": {},
   "outputs": [],
   "source": [
    "print() 함수는 파이썬의 기본적인 출력 함수로, 괄호 안의 내용을 표준 출력(일반적으로 콘솔 화면)에 표시합니다. 여러 항목을 쉼표로 구분하여 전달하면 공백으로 연결되어 출력됩니다. sep 키워드를 사용해 항목 사이의 구분자를 변경하거나, end 키워드로 출력의 끝에 추가할 문자를 설정할 수 있습니다 (기본값은 줄바꿈). file 키워드를 통해 출력을 특정 파일로 보낼 수도 있습니다. 디버깅 시 변수 확인이나 프로그램 결과 표시에 유용하게 활용됩니다."
   ]
  },
  {
   "cell_type": "markdown",
   "metadata": {},
   "source": []
  }
 ],
 "metadata": {
  "kernelspec": {
   "display_name": "Python 3",
   "language": "python",
   "name": "python3"
  },
  "language_info": {
   "name": "python",
   "version": "3.13.3"
  }
 },
 "nbformat": 4,
 "nbformat_minor": 2
}
