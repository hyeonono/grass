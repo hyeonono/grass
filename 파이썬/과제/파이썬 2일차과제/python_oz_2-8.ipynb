{
 "cells": [
  {
   "cell_type": "markdown",
   "metadata": {
    "id": "WXEwMsfUct7U"
   },
   "source": [
    "컴퓨터 기초 지식을 의미하는 CS(Computer science)는<br>\n",
    "코딩 테스트와 함께 기술 면접에서 지원자에게 필수적으로 요구합니다.<br>\n",
    "\n",
    "수업 내용 중 기술 면접에 자주 나오는 질문 3가지와 기본적으로 알아야 할 내용 과제로 선정했습니다.<br>\n",
    "\n",
    "관련 내용에 대해서는 구글링 또는 관련 서적을 통해 상세히 공부하시고<br>\n",
    "답변은 최대한 핵심만 담아 간결하게 작성해주세요<br>\n",
    "\n",
    "기술 블로그를 운영 중이신 경우<br>\n",
    "답변 내용을 기술 블로그에 작성하신 후 링크를 답변에 남겨주셔도 됩니다.<br>"
   ]
  },
  {
   "cell_type": "markdown",
   "metadata": {
    "id": "qoyC9wF-3hvs"
   },
   "source": [
    "-----"
   ]
  },
  {
   "cell_type": "markdown",
   "metadata": {
    "id": "rAD_O3Gmc_43"
   },
   "source": [
    "[문제1]\n",
    "\n",
    "Python의 변수 할당 개념을 다른 언어와 비교해 설명해주세요\n"
   ]
  },
  {
   "cell_type": "markdown",
   "metadata": {},
   "source": [
    "파이썬 변수 할당은 변수를 값(객체)을 담는 상자가 아닌, 객체를 가리키는 이름표로 생각하는 이름 바인딩 방식입니다. 변수 자체에는 자료형이 없고, 가리키는 객체에 자료형이 있습니다 (동적 타이핑). 할당 연산자 =는 값을 복사하는 것이 아니라 이름과 객체를 연결합니다.\n",
    "\n",
    "C/C++은 변수가 특정 타입의 메모리 공간에 값을 복사하여 저장하며 포인터를 통해 메모리 주소를 직접 다룹니다. Java는 기본형 타입은 값을 복사, 참조형 타입은 참조를 복사하며 정적 타이핑을 사용합니다. JavaScript는 동적 타이핑으로 파이썬과 유사하지만, 변수 선언 키워드가 있습니다."
   ]
  },
  {
   "cell_type": "markdown",
   "metadata": {},
   "source": [
    "---"
   ]
  },
  {
   "cell_type": "markdown",
   "metadata": {
    "id": "3uK_auXYdgk2"
   },
   "source": [
    "[문제2]\n",
    "\n",
    "Python의 실수형(float) 계산 시 오차가 발생하는 이유에 대해 간단히 설명해 주세요"
   ]
  },
  {
   "cell_type": "code",
   "execution_count": null,
   "metadata": {
    "id": "9kvBxa6PdhgA"
   },
   "outputs": [],
   "source": [
    "1.int랑 비교하면 정수라도 float는 소수점이 생긴다. 그래서 bool을 대입해서 쓴다면 int(5) != float(5)의 값이 달라진다\n",
    "2.사람과달리 컴퓨터는 이진법으로 언어를 이해하기때문에 float(2)를 숫자 2로 인식을 못하고 비슷한 근사값으로 기억을 적게된다"
   ]
  },
  {
   "cell_type": "markdown",
   "metadata": {},
   "source": [
    "----"
   ]
  },
  {
   "cell_type": "markdown",
   "metadata": {
    "id": "2Jte2VLKdiPm"
   },
   "source": [
    "[문제3]\n",
    "\n",
    "슬라이싱에 대해 간단히 설명해주세요"
   ]
  },
  {
   "cell_type": "code",
   "execution_count": null,
   "metadata": {
    "id": "XJhvRO-2djBh"
   },
   "outputs": [],
   "source": [
    "문자의 슬라이싱은 시퀀스 타입의 일부분을 선택하거나 추출하는 기능을 말합니다. 시퀀스 타입에는 리스트, 문자열, 튜플 등이 있습니다.\n",
    "기본형태는 시퀀스[시작:끝:간격]입니다. \n",
    "시퀀스를 활용하여 문장의 순서,글자의 위치를 쉽게 파악할수있다."
   ]
  }
 ],
 "metadata": {
  "colab": {
   "authorship_tag": "ABX9TyP7YKA5FdtGggYfD74V7SMJ",
   "provenance": []
  },
  "kernelspec": {
   "display_name": "Python 3",
   "name": "python3"
  },
  "language_info": {
   "name": "python"
  }
 },
 "nbformat": 4,
 "nbformat_minor": 0
}
